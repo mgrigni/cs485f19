{
  "nbformat": 4,
  "nbformat_minor": 0,
  "metadata": {
    "colab": {
      "name": "DFT.ipynb",
      "provenance": []
    },
    "kernelspec": {
      "name": "python3",
      "display_name": "Python 3"
    }
  },
  "cells": [
    {
      "cell_type": "markdown",
      "metadata": {
        "id": "pzFGDvZfPvVN",
        "colab_type": "text"
      },
      "source": [
        "Basic demonstration of the [DFT](https://docs.scipy.org/doc/numpy/reference/generated/numpy.fft.fft.html).\n",
        "\n",
        "Here we demonstrate that if the input **a** is periodic (even with a period p that does not divide N), then the transform **A** puts most of its weight near multiples of N/p.\n"
      ]
    },
    {
      "cell_type": "code",
      "metadata": {
        "id": "Y7DFXPqsQLFf",
        "colab_type": "code",
        "outputId": "2799b61f-26b7-4952-c6fe-c22a291b5169",
        "colab": {
          "base_uri": "https://localhost:8080/",
          "height": 408
        }
      },
      "source": [
        "import numpy as np\n",
        "import matplotlib.pyplot as plt\n",
        "\n",
        "# power of 2, for simple FFT                                                    \n",
        "N = 256\n",
        "repeating = [-2, -1, 1, 2, 3]\n",
        "\n",
        "# Book example, page 168                                                        \n",
        "# modulo 21, 11 has order 6, and 11^4 = 8.                                      \n",
        "# N=1024                                                                        \n",
        "# repeating=[0, 0, 0, 1, 0, 0]                                                  \n",
        "\n",
        "# The period does *not* have to divide N.                                       \n",
        "x = list(range(N))\n",
        "a = np.array([repeating[i%len(repeating)] for i in x])\n",
        "# normalize input signal a                                                      \n",
        "a = a/np.linalg.norm(a)\n",
        "A = np.fft.fft(a, norm=\"ortho\")\n",
        "# probA[x] is probability of observing x                                        \n",
        "probA = np.abs(A)**2\n",
        "print(N, repeating, np.linalg.norm(a), np.linalg.norm(A))\n",
        "\n",
        "plt.figure(figsize=(8,6)) # bigger                                              \n",
        "plt.title('N=%d, repeating=%s' % (N, repeating))\n",
        "plt.plot(x, a, 'r.', x, probA, 'b.')\n",
        "\n",
        "plt.savefig('DFT.png') # save as file                                           \n",
        "plt.show()             # display (X or notebook)    "
      ],
      "execution_count": 1,
      "outputs": [
        {
          "output_type": "stream",
          "text": [
            "256 [-2, -1, 1, 2, 3] 1.0 1.0\n"
          ],
          "name": "stdout"
        },
        {
          "output_type": "display_data",
          "data": {
            "image/png": "[encoded data removed]",
            "text/plain": [
              "<Figure size 576x432 with 1 Axes>"
            ]
          },
          "metadata": {
            "tags": []
          }
        }
      ]
    }
  ]
}